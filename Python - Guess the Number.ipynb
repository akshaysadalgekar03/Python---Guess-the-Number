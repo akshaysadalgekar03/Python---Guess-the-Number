{
 "cells": [
  {
   "cell_type": "markdown",
   "id": "noted-scientist",
   "metadata": {},
   "source": [
    "# Python Program for Guess the Number Game"
   ]
  },
  {
   "cell_type": "code",
   "execution_count": null,
   "id": "convertible-criticism",
   "metadata": {},
   "outputs": [],
   "source": [
    "#Python's built-in module that you can use to make random numbers.\n",
    "import random\n",
    "\n",
    "# Return a number between 3 and 9 (both included)\n",
    "random_num = random.randint(1,10)\n",
    "\n",
    "# Checking multiple conditions\n",
    "while True:\n",
    "    \n",
    "    # Taking input from user and storing it a variable\n",
    "    user_input = int(input('Guess the Number: '))\n",
    "    \n",
    "    # Check user input is less than or greate than specified range\n",
    "    if user_input > 10 or user_input < 1:\n",
    "        print('Please Guess the Number in Between 1 and 10')\n",
    "      \n",
    "    # If user input is not equal to random number, print error message\n",
    "    elif user_input != random_num:\n",
    "        print('Wrong Guess, Try Again')\n",
    "        \n",
    "    # Else print success message and stop the loop using break  \n",
    "    else:\n",
    "        print(\"Congratulations! you Won!!\")\n",
    "        break"
   ]
  }
 ],
 "metadata": {
  "kernelspec": {
   "display_name": "Python 3",
   "language": "python",
   "name": "python3"
  },
  "language_info": {
   "codemirror_mode": {
    "name": "ipython",
    "version": 3
   },
   "file_extension": ".py",
   "mimetype": "text/x-python",
   "name": "python",
   "nbconvert_exporter": "python",
   "pygments_lexer": "ipython3",
   "version": "3.9.0"
  }
 },
 "nbformat": 4,
 "nbformat_minor": 5
}
